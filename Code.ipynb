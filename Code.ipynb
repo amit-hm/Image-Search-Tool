{
 "cells": [
  {
   "cell_type": "markdown",
   "metadata": {},
   "source": [
    "# Amit Hulandageri"
   ]
  },
  {
   "cell_type": "code",
   "execution_count": 2,
   "metadata": {},
   "outputs": [],
   "source": [
    "import numpy as np\n",
    "import random\n",
    "import time\n",
    "import pdb\n",
    "import unittest\n",
    "from PIL import Image\n",
    "from pyspark import SparkContext, SparkConf\n",
    "from pyspark.sql import SQLContext"
   ]
  },
  {
   "cell_type": "code",
   "execution_count": 3,
   "metadata": {},
   "outputs": [],
   "source": [
    "from scipy.spatial import distance\n",
    "import time\n",
    "from matplotlib import pyplot as plt"
   ]
  },
  {
   "cell_type": "code",
   "execution_count": 4,
   "metadata": {},
   "outputs": [],
   "source": [
    "from pyspark.sql.functions import isnan, when, count, col"
   ]
  },
  {
   "cell_type": "markdown",
   "metadata": {},
   "source": [
    "# LSH Class"
   ]
  },
  {
   "cell_type": "code",
   "execution_count": 5,
   "metadata": {},
   "outputs": [],
   "source": [
    "class LSH:\n",
    "    \n",
    "    def __init__(self, filename, k, L):\n",
    "        \"\"\"\n",
    "        Initializes the LSH object\n",
    "        A - dataframe to be searched\n",
    "        k - number of thresholds in each function\n",
    "        L - number of functions\n",
    "        \"\"\"\n",
    "        # do not edit this function!\n",
    "        conf = SparkConf()\n",
    "        self.sc = SparkContext().getOrCreate(conf = conf)\n",
    "        self.k = k\n",
    "        self.L = L\n",
    "        self.A = self.load_data(filename)\n",
    "        self.functions = self.create_functions()\n",
    "        self.hashed_A = self.hash_data()\n",
    "        #self.functions_1 = self.cust_func()\n",
    "        \n",
    "    def __del__(self):\n",
    "        self.sc.stop()\n",
    "        \n",
    "    def l1(self, u, v):\n",
    "        \"\"\"\n",
    "        Finds the L1 distance between two vectors\n",
    "        u and v are 1-dimensional Row objects\n",
    "        \"\"\"\n",
    "        l = np.linalg.norm((u - v), ord=1)\n",
    "        \n",
    "        return l\n",
    "\n",
    "    def load_data(self, filename):\n",
    "        \"\"\"\n",
    "        Loads the data into a spark DataFrame, where each row corresponds to\n",
    "        an image patch -- this step is sort of slow.\n",
    "        Each row in the data is an image, and there are 400 columns.\n",
    "        \"\"\"\n",
    "        \n",
    "        b = self.sc.textFile(filename)\n",
    "        \n",
    "        return b\n",
    "\n",
    "    def create_function(self, dimensions, thresholds):\n",
    "        \"\"\"\n",
    "        Creates a hash function from a list of dimensions and thresholds.\n",
    "        \"\"\"\n",
    "        def f(v):\n",
    "            func = np.array2string(np.where(v[dimensions] >= thresholds, 1, 0))[1:-1]\n",
    "            return func\n",
    "    \n",
    "        return f\n",
    "\n",
    "    def create_functions(self, num_dimensions=400, min_threshold=0, max_threshold=255):\n",
    "        \"\"\"\n",
    "        Creates the LSH functions (functions that compute L K-bit hash keys).\n",
    "        Each function selects k dimensions (i.e. column indices of the image matrix)\n",
    "        at random, and then chooses a random threshold for each dimension, between 0 and\n",
    "        255.  For any image, if its value on a given dimension is greater than or equal to\n",
    "        the randomly chosen threshold, we set that bit to 1.  Each hash function returns\n",
    "        a length-k bit string of the form \"0101010001101001...\", and the L hash functions \n",
    "        will produce L such bit strings for each image.\n",
    "        \"\"\"\n",
    "        functions = []\n",
    "        for i in range(self.L):\n",
    "            dimensions = np.random.randint(low = 0, \n",
    "                                    high = num_dimensions,\n",
    "                                    size = self.k)\n",
    "            thresholds = np.random.randint(low = min_threshold, \n",
    "                                    high = max_threshold + 1, \n",
    "                                    size = self.k)\n",
    "\n",
    "            functions.append(self.create_function(dimensions, thresholds))     ###\n",
    "            \n",
    "        return functions\n",
    "    \n",
    "    \n",
    "    def hash_vector(self, v):\n",
    "        \"\"\"\n",
    "        Hashes an individual vector (i.e. image).  This produces an array with L\n",
    "        entries, where each entry is a string of k bits.\n",
    "        \"\"\"\n",
    "        functions = self.create_functions()\n",
    "\n",
    "        hashed_v = v.map(lambda w : [x.strip() for x in w[0].split(',')])\n",
    "        hashed_v = hashed_v.map(lambda w : [int(float(c)) for c in w])\n",
    "        hashed_v = hashed_v.map(lambda w : (w, [f(np.array(w)) for f in functions]))\n",
    "        \n",
    "        return hashed_v\n",
    "\n",
    "\n",
    "    def hash_data(self):\n",
    "        \"\"\"\n",
    "        Hashes the data in A, where each row is a datapoint, using the L\n",
    "        functions in 'self.functions'\n",
    "        \"\"\"\n",
    "        functions = self.create_functions()        \n",
    "        \n",
    "        data = self.A.map(lambda w : [x.strip() for x in w.split(',')])\n",
    "        data = data.map(lambda w : [int(float(c)) for c in w])\n",
    "        dataWithIndex = data.zipWithIndex()\n",
    "\n",
    "        hashed_A = dataWithIndex.map(lambda w : [w[1],w[0], [f(np.array(w[0])) for f in functions]])\n",
    "                         \n",
    "        return hashed_A\n",
    "\n",
    "\n",
    "    def get_candidates(self,hashed_point, query_index):\n",
    "        \"\"\"\n",
    "        Retrieve all of the points that hash to one of the same buckets \n",
    "        as the query point.  Do not do any random sampling (unlike what the first\n",
    "        part of this problem prescribes).\n",
    "        Don't retrieve a point if it is the same point as the query point.\n",
    "        \"\"\"\n",
    "        \n",
    "        candidates = self.hashed_A.filter(lambda w : np.any(np.array(w[2]) == np.array(hashed_point[2])))\n",
    "\n",
    "        #print(\"Number of candidates :\",candidates.count())\n",
    "        \n",
    "        return candidates\n",
    "        \n",
    "\n",
    "    def lsh_search(self, query_hashed_point, query_index, num_neighbors):\n",
    "        \"\"\"\n",
    "        Run the entire LSH algorithm\n",
    "        \"\"\"\n",
    "        def l1(u, v):\n",
    "            l = np.linalg.norm((u - v), ord=1)\n",
    "            return l\n",
    "        \n",
    "        #start = time.time()\n",
    "        candidates = self.get_candidates(query_hashed_point, query_index)\n",
    "        #print(time.time() - start)\n",
    "\n",
    "        #start = time.time()\n",
    "        candidates_dist = candidates.map(lambda w : ( l1( np.array(w[1]), np.array(query_hashed_point[1])),w[0] ))\n",
    "        #print(time.time() - start)\n",
    "        \n",
    "        #start = time.time()\n",
    "        sorted_cand_dist = candidates_dist.sortByKey()\n",
    "        #print(time.time() - start)\n",
    "        \n",
    "        return sorted_cand_dist.take(num_neighbors+1)[1:(num_neighbors+1)]\n",
    "    "
   ]
  },
  {
   "cell_type": "markdown",
   "metadata": {},
   "source": [
    "# Plotting images"
   ]
  },
  {
   "cell_type": "code",
   "execution_count": 6,
   "metadata": {},
   "outputs": [],
   "source": [
    "# Plots images at the specified rows and saves them each to files.\n",
    "def plot(A, row_nums, base_filename):\n",
    "    for row_num in row_nums:\n",
    "        patch = np.reshape(A[row_num, :], [20, 20])\n",
    "        im = Image.fromarray(patch)\n",
    "        if im.mode != 'RGB':\n",
    "            im = im.convert('RGB')\n",
    "        im.save(base_filename + \"-\" + str(row_num) + \".png\")"
   ]
  },
  {
   "cell_type": "markdown",
   "metadata": {},
   "source": [
    "# Nearest neighbours"
   ]
  },
  {
   "cell_type": "code",
   "execution_count": 7,
   "metadata": {},
   "outputs": [],
   "source": [
    "# Finds the nearest neighbors to a given vector, using linear search.\n",
    "def linear_search(A, query_index, num_neighbors):\n",
    "    \n",
    "    query_point = np.array([A[query_index,:]])\n",
    "    \n",
    "    distances = distance.cdist(A, query_point, 'cityblock')\n",
    "\n",
    "    \n",
    "    dist_and_index = [(distances[i],i) for i in range(len(distances))]\n",
    "    \n",
    "    dist_and_index = sorted(dist_and_index, key=lambda x: x[0])\n",
    "    \n",
    "    return dist_and_index[1:num_neighbors+1]"
   ]
  },
  {
   "cell_type": "markdown",
   "metadata": {},
   "source": [
    "# Error Measure"
   ]
  },
  {
   "cell_type": "code",
   "execution_count": 8,
   "metadata": {},
   "outputs": [],
   "source": [
    "# Write a function that computes the error measure\n",
    "def lsh_error(lsh_sums, linear_sums):\n",
    "    error = 0\n",
    "    for i in range(len(lsh_sums)):\n",
    "        error = error + (lsh_sums[i] / linear_sums[i])\n",
    "    error = error / len(lsh_sums)\n",
    "    return error"
   ]
  },
  {
   "cell_type": "code",
   "execution_count": 9,
   "metadata": {},
   "outputs": [
    {
     "name": "stdout",
     "output_type": "stream",
     "text": [
      "Error for l value  10  :  [1.11539303]\n",
      "Error for l value  12  :  [1.0223491]\n",
      "Error for l value  14  :  [1.09855784]\n",
      "Error for l value  16  :  [1.07324563]\n",
      "Error for l value  18  :  [1.08695998]\n",
      "Error for l value  20  :  [1.063757]\n",
      "Error for k value  16  :  [1.06022878]\n",
      "Error for k value  18  :  [1.05306285]\n",
      "Error for k value  20  :  [1.0555756]\n",
      "Error for k value  22  :  [1.06511041]\n",
      "Error for k value  24  :  [0.99414075]\n"
     ]
    }
   ],
   "source": [
    "if __name__ == '__main__':\n",
    "    #unittest.main(argv=[''], exit=False)\n",
    "    #unittest.main() ### TODO: Uncomment this to run tests\n",
    "    \n",
    "    data_np = np.genfromtxt ('patches.csv', delimiter=\",\")\n",
    "    \n",
    "    # function of L\n",
    "    k = 24\n",
    "    L = [10,12,14,16,18,20]\n",
    "    l_error = []\n",
    "    for l in L:\n",
    "        lsh = LSH(filename ='patches.csv',k=k, L=l)\n",
    "\n",
    "        lsh_nearest_sums = []\n",
    "        linear_nearest_sums = []\n",
    "\n",
    "        no_of_queries = 10\n",
    "\n",
    "        lsh_time = []\n",
    "        linear_time = []\n",
    "\n",
    "        for i in range(1,no_of_queries+1):\n",
    "\n",
    "            # lsh search\n",
    "            query_index = i*100-1\n",
    "            query_hashed_point = lsh.hashed_A.collect()[query_index]\n",
    "\n",
    "            start = time.time()\n",
    "            lsh_nearest_3 = lsh.lsh_search(query_hashed_point, query_index, 10)\n",
    "            lsh_time.append(time.time() - start)\n",
    "\n",
    "            lsh_nearest_3_dist = [point[0] for point in lsh_nearest_3]\n",
    "            lsh_row_nums = [point[1] for point in lsh_nearest_3]\n",
    "\n",
    "            lsh_nearest_sums.append(sum(lsh_nearest_3_dist))\n",
    "\n",
    "            # linear search\n",
    "            start = time.time()\n",
    "            linear_nearest_3 = linear_search(data_np, query_index = i*100-1, num_neighbors = 10)\n",
    "            linear_time.append(time.time() - start)\n",
    "\n",
    "            linear_nearest_3_dist = [point[0] for point in linear_nearest_3]\n",
    "            linear_row_nums = [point[1] for point in linear_nearest_3]\n",
    "\n",
    "            linear_nearest_sums.append(sum(linear_nearest_3_dist))\n",
    "            \n",
    "            # Spark linear search\n",
    "            start = time.time()\n",
    "            spark_linear_nearest_3 = lsh.spark_lin_search(query_hashed_point, query_index, 3)\n",
    "            spark_linear_time.append(time.time() - start)\n",
    "\n",
    "            spark_linear_nearest_3_dist = [point[0] for point in spark_linear_nearest_3]\n",
    "            spark_linear_row_nums = [point[1] for point in spark_linear_nearest_3]\n",
    "\n",
    "            spark_linear_nearest_sums.append(sum(spark_linear_nearest_3_dist))\n",
    "\n",
    "        print(\"Time taken for LSH : \",lsh_time)\n",
    "        print(\"Average time for LSH search : \",sum(lsh_time)/len(lsh_time))\n",
    "        print(\"Time taken for Linear search : \",linear_time)\n",
    "        print(\"Average time for linear search : \",sum(linear_time)/len(linear_time))\n",
    "        print(\"Time taken for Spark Linear search : \",spark_linear_time)\n",
    "        print(\"Average time for Spark linear search : \",sum(spark_linear_time)/len(spark_linear_time))\n",
    "\n",
    "        error_1 = lsh_error(lsh_nearest_sums, linear_nearest_sums)\n",
    "    \n",
    "        error_2 = lsh_error(lsh_nearest_sums, spark_linear_nearest_sums)\n",
    "        \n",
    "        l_error.append(error_2)\n",
    "        print(\"Error for l value \",l ,\" : \",error_2)\n",
    "\n",
    "        lsh.sc.stop()\n",
    "        \n",
    "    \n",
    "    # function of k    \n",
    "    L = 10\n",
    "    K = [16,18,20,22,24]\n",
    "    k_error = []\n",
    "    for k in K:\n",
    "        lsh = LSH(filename ='patches.csv',k=k, L=L)\n",
    "\n",
    "        lsh_nearest_sums = []\n",
    "        linear_nearest_sums = []\n",
    "\n",
    "        no_of_queries = 10\n",
    "\n",
    "        lsh_time = []\n",
    "        linear_time = []\n",
    "\n",
    "        for i in range(1,no_of_queries+1):\n",
    "\n",
    "            # lsh search\n",
    "            query_index = i*100-1\n",
    "            query_hashed_point = lsh.hashed_A.collect()[query_index]\n",
    "\n",
    "            start = time.time()\n",
    "            lsh_nearest_3 = lsh.lsh_search(query_hashed_point, query_index, 10)\n",
    "            lsh_time.append(time.time() - start)\n",
    "\n",
    "            lsh_nearest_3_dist = [point[0] for point in lsh_nearest_3]\n",
    "            lsh_row_nums = [point[1] for point in lsh_nearest_3]\n",
    "\n",
    "            lsh_nearest_sums.append(sum(lsh_nearest_3_dist))\n",
    "\n",
    "            # linear search\n",
    "            start = time.time()\n",
    "            linear_nearest_3 = linear_search(data_np, query_index = i*100-1, num_neighbors = 10)\n",
    "            linear_time.append(time.time() - start)\n",
    "\n",
    "            linear_nearest_3_dist = [point[0] for point in linear_nearest_3]\n",
    "            linear_row_nums = [point[1] for point in linear_nearest_3]\n",
    "\n",
    "            linear_nearest_sums.append(sum(linear_nearest_3_dist))\n",
    "            \n",
    "            # Spark linear search\n",
    "            start = time.time()\n",
    "            spark_linear_nearest_3 = lsh.spark_lin_search(query_hashed_point, query_index, 3)\n",
    "            spark_linear_time.append(time.time() - start)\n",
    "\n",
    "            spark_linear_nearest_3_dist = [point[0] for point in spark_linear_nearest_3]\n",
    "            spark_linear_row_nums = [point[1] for point in spark_linear_nearest_3]\n",
    "\n",
    "            spark_linear_nearest_sums.append(sum(spark_linear_nearest_3_dist))\n",
    "\n",
    "        print(\"Time taken for LSH : \",lsh_time)\n",
    "        print(\"Average time for LSH search : \",sum(lsh_time)/len(lsh_time))\n",
    "        print(\"Time taken for Linear search : \",linear_time)\n",
    "        print(\"Average time for linear search : \",sum(linear_time)/len(linear_time))\n",
    "        print(\"Time taken for Spark Linear search : \",spark_linear_time)\n",
    "        print(\"Average time for Spark linear search : \",sum(spark_linear_time)/len(spark_linear_time))\n",
    "\n",
    "        error_1 = lsh_error(lsh_nearest_sums, linear_nearest_sums)\n",
    "    \n",
    "        error_2 = lsh_error(lsh_nearest_sums, spark_linear_nearest_sums)\n",
    "        \n",
    "        k_error.append(error_2)\n",
    "        print(\"Error for k value \",k ,\" : \", error_2)\n",
    "\n",
    "        lsh.sc.stop()"
   ]
  },
  {
   "cell_type": "code",
   "execution_count": null,
   "metadata": {},
   "outputs": [],
   "source": [
    "# Plotting graphs"
   ]
  },
  {
   "cell_type": "code",
   "execution_count": 19,
   "metadata": {},
   "outputs": [
    {
     "data": {
      "text/plain": [
       "Text(0, 0.5, 'error')"
      ]
     },
     "execution_count": 19,
     "metadata": {},
     "output_type": "execute_result"
    },
    {
     "data": {
      "image/png": "[encoded data removed]",
      "text/plain": [
       "<Figure size 432x288 with 1 Axes>"
      ]
     },
     "metadata": {
      "needs_background": "light"
     },
     "output_type": "display_data"
    }
   ],
   "source": [
    "fig = plt.figure()\n",
    "plt.plot([10,12,14,16,18,20],l_error)\n",
    "fig.suptitle('k = 24', fontsize=20)\n",
    "plt.xlabel('L',fontsize=18)\n",
    "plt.ylabel('error',fontsize=18)"
   ]
  },
  {
   "cell_type": "code",
   "execution_count": 18,
   "metadata": {},
   "outputs": [
    {
     "data": {
      "text/plain": [
       "Text(0, 0.5, 'error')"
      ]
     },
     "execution_count": 18,
     "metadata": {},
     "output_type": "execute_result"
    },
    {
     "data": {
      "image/png": "[encoded data removed]",
      "text/plain": [
       "<Figure size 432x288 with 1 Axes>"
      ]
     },
     "metadata": {
      "needs_background": "light"
     },
     "output_type": "display_data"
    }
   ],
   "source": [
    "fig = plt.figure()\n",
    "plt.plot([16,18,20,22,24],k_error)\n",
    "fig.suptitle('L = 10', fontsize=20)\n",
    "plt.xlabel('k',fontsize=18)\n",
    "plt.ylabel('error',fontsize=18)"
   ]
  }
 ],
 "metadata": {
  "kernelspec": {
   "display_name": "Python 3",
   "language": "python",
   "name": "python3"
  },
  "language_info": {
   "codemirror_mode": {
    "name": "ipython",
    "version": 3
   },
   "file_extension": ".py",
   "mimetype": "text/x-python",
   "name": "python",
   "nbconvert_exporter": "python",
   "pygments_lexer": "ipython3",
   "version": "3.7.3"
  }
 },
 "nbformat": 4,
 "nbformat_minor": 2
}
